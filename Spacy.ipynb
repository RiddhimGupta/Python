{
  "nbformat": 4,
  "nbformat_minor": 0,
  "metadata": {
    "colab": {
      "name": "Untitled7.ipynb",
      "version": "0.3.2",
      "provenance": [],
      "include_colab_link": true
    },
    "kernelspec": {
      "name": "python3",
      "display_name": "Python 3"
    }
  },
  "cells": [
    {
      "cell_type": "markdown",
      "metadata": {
        "id": "view-in-github",
        "colab_type": "text"
      },
      "source": [
        "<a href=\"https://colab.research.google.com/github/RiddhimGupta/Python/blob/master/Spacy.ipynb\" target=\"_parent\"><img src=\"https://colab.research.google.com/assets/colab-badge.svg\" alt=\"Open In Colab\"/></a>"
      ]
    },
    {
      "cell_type": "code",
      "metadata": {
        "id": "yUO9_5QEefiD",
        "colab_type": "code",
        "colab": {}
      },
      "source": [
        "#Using Spacy\n",
        "import spacy"
      ],
      "execution_count": 0,
      "outputs": []
    },
    {
      "cell_type": "code",
      "metadata": {
        "id": "2oBY8kaQeiW2",
        "colab_type": "code",
        "colab": {}
      },
      "source": [
        "# language en--\n",
        "nlp=spacy.load('en')"
      ],
      "execution_count": 0,
      "outputs": []
    },
    {
      "cell_type": "code",
      "metadata": {
        "id": "Yzc0-ybUepGK",
        "colab_type": "code",
        "colab": {}
      },
      "source": [
        "data=\"Hey there! how are you? it was nice meeting you!! I had a great time meeting you\""
      ],
      "execution_count": 0,
      "outputs": []
    },
    {
      "cell_type": "code",
      "metadata": {
        "id": "zRtI09HxfO4P",
        "colab_type": "code",
        "colab": {}
      },
      "source": [
        "new_data=nlp(data)  # automatic tokenization of data"
      ],
      "execution_count": 0,
      "outputs": []
    },
    {
      "cell_type": "code",
      "metadata": {
        "id": "nvxiAD4ufQQ6",
        "colab_type": "code",
        "colab": {
          "base_uri": "https://localhost:8080/",
          "height": 1000
        },
        "outputId": "9faaa6a9-2b12-41d6-e813-387736db2d9c"
      },
      "source": [
        "for i in new_data:\n",
        "  print(i,\":- lemmatization of word is --\",i.lemma_)             #Printing Lemma\n",
        "  print(\"\\tPart of speech ---\", i.pos_,\"\\n\")                     #Printing part of speech"
      ],
      "execution_count": 17,
      "outputs": [
        {
          "output_type": "stream",
          "text": [
            "Hey :- lemmatization of word is -- hey\n",
            "\tPart of speech --- INTJ \n",
            "\n",
            "there :- lemmatization of word is -- there\n",
            "\tPart of speech --- ADV \n",
            "\n",
            "! :- lemmatization of word is -- !\n",
            "\tPart of speech --- PUNCT \n",
            "\n",
            "how :- lemmatization of word is -- how\n",
            "\tPart of speech --- ADV \n",
            "\n",
            "are :- lemmatization of word is -- be\n",
            "\tPart of speech --- VERB \n",
            "\n",
            "you :- lemmatization of word is -- -PRON-\n",
            "\tPart of speech --- PRON \n",
            "\n",
            "? :- lemmatization of word is -- ?\n",
            "\tPart of speech --- PUNCT \n",
            "\n",
            "it :- lemmatization of word is -- -PRON-\n",
            "\tPart of speech --- PRON \n",
            "\n",
            "was :- lemmatization of word is -- be\n",
            "\tPart of speech --- VERB \n",
            "\n",
            "nice :- lemmatization of word is -- nice\n",
            "\tPart of speech --- ADJ \n",
            "\n",
            "meeting :- lemmatization of word is -- meeting\n",
            "\tPart of speech --- NOUN \n",
            "\n",
            "you :- lemmatization of word is -- -PRON-\n",
            "\tPart of speech --- PRON \n",
            "\n",
            "! :- lemmatization of word is -- !\n",
            "\tPart of speech --- PUNCT \n",
            "\n",
            "! :- lemmatization of word is -- !\n",
            "\tPart of speech --- PUNCT \n",
            "\n",
            "I :- lemmatization of word is -- -PRON-\n",
            "\tPart of speech --- PRON \n",
            "\n",
            "had :- lemmatization of word is -- have\n",
            "\tPart of speech --- VERB \n",
            "\n",
            "a :- lemmatization of word is -- a\n",
            "\tPart of speech --- DET \n",
            "\n",
            "great :- lemmatization of word is -- great\n",
            "\tPart of speech --- ADJ \n",
            "\n",
            "time :- lemmatization of word is -- time\n",
            "\tPart of speech --- NOUN \n",
            "\n",
            "meeting :- lemmatization of word is -- meet\n",
            "\tPart of speech --- VERB \n",
            "\n",
            "you :- lemmatization of word is -- -PRON-\n",
            "\tPart of speech --- PRON \n",
            "\n"
          ],
          "name": "stdout"
        }
      ]
    },
    {
      "cell_type": "code",
      "metadata": {
        "id": "FK-6_7GefaHX",
        "colab_type": "code",
        "colab": {}
      },
      "source": [
        ""
      ],
      "execution_count": 0,
      "outputs": []
    }
  ]
}