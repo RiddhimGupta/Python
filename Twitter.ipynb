{
  "nbformat": 4,
  "nbformat_minor": 0,
  "metadata": {
    "colab": {
      "name": "Untitled10.ipynb",
      "version": "0.3.2",
      "provenance": [],
      "include_colab_link": true
    },
    "kernelspec": {
      "name": "python3",
      "display_name": "Python 3"
    }
  },
  "cells": [
    {
      "cell_type": "markdown",
      "metadata": {
        "id": "view-in-github",
        "colab_type": "text"
      },
      "source": [
        "<a href=\"https://colab.research.google.com/github/RiddhimGupta/Python/blob/master/Twitter.ipynb\" target=\"_parent\"><img src=\"https://colab.research.google.com/assets/colab-badge.svg\" alt=\"Open In Colab\"/></a>"
      ]
    },
    {
      "cell_type": "code",
      "metadata": {
        "id": "XdcO6ERtIv2w",
        "colab_type": "code",
        "colab": {}
      },
      "source": [
        "# Sentiment Analysis From Twitter\n",
        "#sudo pip install tweepy\n",
        "import tweepy\n",
        "import matplotlib.pyplot as plt \n",
        "import time\n",
        "from textblob import TextBlob"
      ],
      "execution_count": 0,
      "outputs": []
    },
    {
      "cell_type": "code",
      "metadata": {
        "id": "ZntJgvWKLZu9",
        "colab_type": "code",
        "colab": {}
      },
      "source": [
        "# all 4 authentication keys to access twitter API\n",
        "# to connect as OAuth handler or jump server / reverse proxy server\n",
        "consumer_key='dfasfdsmsdmfsfdsfds'\n",
        "consumer_sec='lanaAB2aaassddf48Ap7Q15EFWvrCRnSY2VaDzZ5xzmkN8JXFrdDr7tPaL'\n",
        "\n",
        "#from proxy server we need to connect to proxy server of twitter\n",
        "access_token='1136442dfcxzvcsdfzcx237624102914-cRAwcfstY1BxjVcN80RcZikKSBmkrH'\n",
        "access_sec='A80x5e21szxcscxauOAoYVE5u4eTUUx17G5zDUoioQQfDbFCI7V'\n"
      ],
      "execution_count": 0,
      "outputs": []
    },
    {
      "cell_type": "code",
      "metadata": {
        "id": "3Cx_3slMRvFD",
        "colab_type": "code",
        "colab": {}
      },
      "source": [
        "#tweepy_explore\n",
        "#connecting to jump server of twitter\n",
        "auth=tweepy.OAuthHandler(consumer_key,consumer_sec)"
      ],
      "execution_count": 0,
      "outputs": []
    },
    {
      "cell_type": "code",
      "metadata": {
        "id": "JUdoPSpAR8Cj",
        "colab_type": "code",
        "colab": {}
      },
      "source": [
        "#now we can connect from jump server to web server of twitter\n",
        "auth.set_access_token(access_token,access_sec)"
      ],
      "execution_count": 0,
      "outputs": []
    },
    {
      "cell_type": "code",
      "metadata": {
        "id": "5ikIxtqSSKl-",
        "colab_type": "code",
        "colab": {}
      },
      "source": [
        "\n",
        "#now we can connect to API storage server of twitter\n",
        "api_connect=tweepy.API(auth)"
      ],
      "execution_count": 0,
      "outputs": []
    },
    {
      "cell_type": "code",
      "metadata": {
        "id": "q0raJc4FSYY8",
        "colab_type": "code",
        "colab": {}
      },
      "source": [
        "#now you can search any topic on twitter\n",
        "tweet_data=api_connect.search('modi',count=20)"
      ],
      "execution_count": 0,
      "outputs": []
    },
    {
      "cell_type": "code",
      "metadata": {
        "id": "u5EdOJhZQ9Nb",
        "colab_type": "code",
        "colab": {
          "base_uri": "https://localhost:8080/",
          "height": 588
        },
        "outputId": "7e211f60-1f7a-460d-ef10-4d03d58639cb"
      },
      "source": [
        "positive=0\n",
        "negative=0\n",
        "neutral=0\n",
        "#printing line by line \n",
        "for tweet in tweet_data:\n",
        "  #print(tweet.text)\n",
        "  analysis=TextBlob(tweet.text) #there it will apply NLP\n",
        "  print(analysis.sentiment)\n",
        "  #now checking polarity only\n",
        "  if(analysis.sentiment.polarity >0):\n",
        "    print('pos')\n",
        "    positive=positive+1\n",
        "  elif(analysis.sentiment.polarity == 0):\n",
        "    print('neutral')\n",
        "    neutral=neutral+1\n",
        "  else:\n",
        "    print('negative')\n",
        "    negative=negative+1"
      ],
      "execution_count": 10,
      "outputs": [
        {
          "output_type": "stream",
          "text": [
            "Sentiment(polarity=0.375, subjectivity=0.75)\n",
            "pos\n",
            "Sentiment(polarity=0.625, subjectivity=1.0)\n",
            "pos\n",
            "Sentiment(polarity=0.0, subjectivity=0.0)\n",
            "neutral\n",
            "Sentiment(polarity=-0.012500000000000011, subjectivity=0.65)\n",
            "negative\n",
            "Sentiment(polarity=0.625, subjectivity=1.0)\n",
            "pos\n",
            "Sentiment(polarity=-0.1, subjectivity=0.2)\n",
            "negative\n",
            "Sentiment(polarity=0.0, subjectivity=0.0)\n",
            "neutral\n",
            "Sentiment(polarity=0.0, subjectivity=0.0)\n",
            "neutral\n",
            "Sentiment(polarity=-0.31666666666666665, subjectivity=0.2833333333333333)\n",
            "negative\n",
            "Sentiment(polarity=0.0, subjectivity=0.0)\n",
            "neutral\n",
            "Sentiment(polarity=0.0, subjectivity=0.0)\n",
            "neutral\n",
            "Sentiment(polarity=0.0, subjectivity=0.0)\n",
            "neutral\n",
            "Sentiment(polarity=0.13636363636363635, subjectivity=0.45454545454545453)\n",
            "pos\n",
            "Sentiment(polarity=-0.1277777777777778, subjectivity=0.17986111111111114)\n",
            "negative\n",
            "Sentiment(polarity=0.2857142857142857, subjectivity=0.5357142857142857)\n",
            "pos\n",
            "Sentiment(polarity=0.0, subjectivity=0.0)\n",
            "neutral\n",
            "Sentiment(polarity=0.13636363636363635, subjectivity=0.45454545454545453)\n",
            "pos\n"
          ],
          "name": "stdout"
        }
      ]
    },
    {
      "cell_type": "code",
      "metadata": {
        "id": "8i0OL_FRSsuJ",
        "colab_type": "code",
        "colab": {
          "base_uri": "https://localhost:8080/",
          "height": 283
        },
        "outputId": "3472e477-c9ee-4064-fe61-3df35efc915e"
      },
      "source": [
        "#plotting graph\n",
        "plt.xlabel('Tags')\n",
        "plt.ylabel('Polarity')\n",
        "#plt.pie([positive,negative,neutral],labels=['Positive','Negative','Neutral'],autopct='%1.1f%%')\n",
        "plt.bar(['positive', 'negative','neutral'],(positive,negative,neutral))\n",
        "plt.show()"
      ],
      "execution_count": 18,
      "outputs": [
        {
          "output_type": "display_data",
          "data": {
            "image/png": "[encoded data removed]",
            "text/plain": [
              "<Figure size 432x288 with 1 Axes>"
            ]
          },
          "metadata": {
            "tags": []
          }
        }
      ]
    },
    {
      "cell_type": "code",
      "metadata": {
        "id": "aNCDBHwvU0zV",
        "colab_type": "code",
        "colab": {}
      },
      "source": [
        ""
      ],
      "execution_count": 0,
      "outputs": []
    }
  ]
}