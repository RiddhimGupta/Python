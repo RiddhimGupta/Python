{
  "nbformat": 4,
  "nbformat_minor": 0,
  "metadata": {
    "colab": {
      "name": "Assignment-3.ipynb",
      "provenance": [],
      "authorship_tag": "ABX9TyMUoApqmnnLS9DBWRx5eJ3o",
      "include_colab_link": true
    },
    "kernelspec": {
      "name": "python3",
      "display_name": "Python 3"
    }
  },
  "cells": [
    {
      "cell_type": "markdown",
      "metadata": {
        "id": "view-in-github",
        "colab_type": "text"
      },
      "source": [
        "<a href=\"https://colab.research.google.com/github/RiddhimGupta/Python/blob/master/Assignment_3.ipynb\" target=\"_parent\"><img src=\"https://colab.research.google.com/assets/colab-badge.svg\" alt=\"Open In Colab\"/></a>"
      ]
    },
    {
      "cell_type": "code",
      "metadata": {
        "id": "bTIB80PjZ-vU",
        "colab_type": "code",
        "colab": {
          "base_uri": "https://localhost:8080/",
          "height": 136
        },
        "outputId": "a5b4eba1-aad5-4b0e-f1e3-666505d265f0"
      },
      "source": [
        "n=int(input(\"Enter n = \"))\n",
        "name=input(\"Enter your name: \")\n",
        "for i in range(n):\n",
        "    print(name)\n"
      ],
      "execution_count": 11,
      "outputs": [
        {
          "output_type": "stream",
          "text": [
            "Enter n = 5\n",
            "Enter your name: Michael\n",
            "Michael\n",
            "Michael\n",
            "Michael\n",
            "Michael\n",
            "Michael\n"
          ],
          "name": "stdout"
        }
      ]
    },
    {
      "cell_type": "code",
      "metadata": {
        "id": "sIb9Lp4LaVFl",
        "colab_type": "code",
        "colab": {
          "base_uri": "https://localhost:8080/",
          "height": 136
        },
        "outputId": "67b3743a-0418-46f2-dc2e-03ada4ad846b"
      },
      "source": [
        "n=int(input(\"Enter n = \"))\n",
        "name=input(\"Enter your name: \")\n",
        "i=0\n",
        "while(i<n):\n",
        "  print(name)\n",
        "  i=i+1"
      ],
      "execution_count": 12,
      "outputs": [
        {
          "output_type": "stream",
          "text": [
            "Enter n = 5\n",
            "Enter your name: Robert\n",
            "Robert\n",
            "Robert\n",
            "Robert\n",
            "Robert\n",
            "Robert\n"
          ],
          "name": "stdout"
        }
      ]
    },
    {
      "cell_type": "code",
      "metadata": {
        "id": "JA9yuYzhahf_",
        "colab_type": "code",
        "colab": {
          "base_uri": "https://localhost:8080/",
          "height": 68
        },
        "outputId": "52ef91ac-7286-4590-8e5c-8dc107f69fa8"
      },
      "source": [
        "try:  \n",
        "    a = int(input(\"Enter a:\"))    \n",
        "    b = int(input(\"Enter b:\"))    \n",
        "    c = a/b  \n",
        "except:  \n",
        "    print(\"Can't divide with zero\")  "
      ],
      "execution_count": 15,
      "outputs": [
        {
          "output_type": "stream",
          "text": [
            "Enter a:10\n",
            "Enter b:0\n",
            "Can't divide with zero\n"
          ],
          "name": "stdout"
        }
      ]
    },
    {
      "cell_type": "code",
      "metadata": {
        "id": "HoYD7qDBbl-E",
        "colab_type": "code",
        "colab": {
          "base_uri": "https://localhost:8080/",
          "height": 187
        },
        "outputId": "198ef477-d1cc-4381-f112-8ece886dbe4a"
      },
      "source": [
        "import time \n",
        "  \n",
        "# printing the start time  \n",
        "\n",
        "for i in range(10):\n",
        "  print(time.ctime())\n",
        "  time.sleep(10) \n",
        "  i=i+1\n"
      ],
      "execution_count": 17,
      "outputs": [
        {
          "output_type": "stream",
          "text": [
            "Thu Aug 27 15:03:09 2020\n",
            "Thu Aug 27 15:03:19 2020\n",
            "Thu Aug 27 15:03:29 2020\n",
            "Thu Aug 27 15:03:39 2020\n",
            "Thu Aug 27 15:03:49 2020\n",
            "Thu Aug 27 15:03:59 2020\n",
            "Thu Aug 27 15:04:09 2020\n",
            "Thu Aug 27 15:04:19 2020\n",
            "Thu Aug 27 15:04:29 2020\n",
            "Thu Aug 27 15:04:39 2020\n"
          ],
          "name": "stdout"
        }
      ]
    },
    {
      "cell_type": "code",
      "metadata": {
        "id": "mkBdBrh3b_Xr",
        "colab_type": "code",
        "colab": {
          "base_uri": "https://localhost:8080/",
          "height": 510
        },
        "outputId": "a17511eb-9ae0-4e30-f9e7-55be68c90aa0"
      },
      "source": [
        "file_name = input(\"Enter file name:\")\n",
        "\n",
        "file1 = open(file_name, \"r\")\n",
        "\n",
        "word_count = 0\n",
        "i = 0\n",
        "str1 = \"\"\n",
        "print(\"Contents of file \" + file_name + \" are:\")\n",
        "\n",
        "# display and count number of  words in each line of text file\n",
        "for line in file1:\n",
        "    i+=1\n",
        "    print(line, end='')\n",
        "    words_in_line = len(line.split())\n",
        "    str1 = str1 + \"Words in Line No: \" + str(i) + \" are : \" + str(words_in_line)+\"\\n\"\n",
        "    word_count+=words_in_line\n",
        "    \n",
        "print('\\n\\n ' + str1)    \n",
        "print('\\n\\nTotal Number of  words in this file are = ' + str(word_count))\n",
        "\n",
        "file1.close()"
      ],
      "execution_count": 22,
      "outputs": [
        {
          "output_type": "stream",
          "text": [
            "Enter file name:story.txt\n",
            "Contents of file story.txt are:\n",
            "A lion was once sleeping in the jungle when a mouse started running up and down his body just for fun. \n",
            "This disturbed the lion’s sleep, and he woke up quite angry. \n",
            "He was about to eat the mouse when the mouse desperately requested the lion to set him free. \n",
            "“I promise you, I will be of great help to you someday if you save me.” \n",
            "The lion laughed at the mouse’s confidence and let him go.\n",
            "\n",
            "One day, a few hunters came into the forest and took the lion with them. \n",
            "They tied him up against a tree. The lion was struggling to get out and started to whimper.\n",
            " Soon, the mouse walked past and noticed the lion in trouble. \n",
            "Quickly, he ran and gnawed on the ropes to set the lion free. \n",
            "Both of them sped off into the jungle.\n",
            "\n",
            " Words in Line No: 1 are : 21\n",
            "Words in Line No: 2 are : 11\n",
            "Words in Line No: 3 are : 18\n",
            "Words in Line No: 4 are : 16\n",
            "Words in Line No: 5 are : 11\n",
            "Words in Line No: 6 are : 0\n",
            "Words in Line No: 7 are : 15\n",
            "Words in Line No: 8 are : 18\n",
            "Words in Line No: 9 are : 11\n",
            "Words in Line No: 10 are : 13\n",
            "Words in Line No: 11 are : 8\n",
            "\n",
            "\n",
            "\n",
            "Total Number of  words in this file are = 142\n"
          ],
          "name": "stdout"
        }
      ]
    },
    {
      "cell_type": "code",
      "metadata": {
        "id": "uNXSw8ytf-_5",
        "colab_type": "code",
        "colab": {}
      },
      "source": [
        ""
      ],
      "execution_count": null,
      "outputs": []
    },
    {
      "cell_type": "code",
      "metadata": {
        "id": "Fl2L39vqfgjO",
        "colab_type": "code",
        "colab": {}
      },
      "source": [
        ""
      ],
      "execution_count": null,
      "outputs": []
    },
    {
      "cell_type": "code",
      "metadata": {
        "id": "acTEq2NLfe6W",
        "colab_type": "code",
        "colab": {}
      },
      "source": [
        ""
      ],
      "execution_count": null,
      "outputs": []
    },
    {
      "cell_type": "code",
      "metadata": {
        "id": "jaYmMj0Ne1kR",
        "colab_type": "code",
        "colab": {}
      },
      "source": [
        ""
      ],
      "execution_count": null,
      "outputs": []
    },
    {
      "cell_type": "code",
      "metadata": {
        "id": "ZeW4DeC2TOMO",
        "colab_type": "code",
        "colab": {
          "base_uri": "https://localhost:8080/",
          "height": 85
        },
        "outputId": "71794a23-83b7-4344-a7cf-2cb41ba694f5"
      },
      "source": [
        "# Python3 Program for the  \n",
        "# above approach  \n",
        "  \n",
        "# Function to get the length \n",
        "# of the race track \n",
        "def findlength(a, b, c): \n",
        "    # return the answer \n",
        "    return c * a/(c + a-b) \n",
        "  \n",
        "a = int(input(\"Enter for A: \")) #11\n",
        "b = int(input(\"Enter for B: \")) #90\n",
        "c = int(input(\"Enter for C: \")) #80\n",
        "  \n",
        "print(findlength(a, b, c))  "
      ],
      "execution_count": 2,
      "outputs": [
        {
          "output_type": "stream",
          "text": [
            "Enter for A: 11\n",
            "Enter for B: 90\n",
            "Enter for C: 80\n",
            "880.0\n"
          ],
          "name": "stdout"
        }
      ]
    },
    {
      "cell_type": "code",
      "metadata": {
        "id": "B7kLlDhpTiAO",
        "colab_type": "code",
        "colab": {
          "base_uri": "https://localhost:8080/",
          "height": 102
        },
        "outputId": "6028ea20-aebd-4c4b-c018-7caa753002fc"
      },
      "source": [
        "# Python program to demonstrate \n",
        "# multiplication of complex numbers \n",
        "  \n",
        "  \n",
        "def mulComplex( z1, z2): \n",
        "    return z1*z2 \n",
        "   \n",
        "      \n",
        "# driver code \n",
        "a1=int(input(\"Enter a1: \")) #2\n",
        "b1=int(input(\"Enter b1: \")) #3\n",
        "a2=int(input(\"Enter a2: \")) #4\n",
        "b2=int(input(\"Enter b2: \")) #5\n",
        "z1 = complex(a1, b1) \n",
        "z2 = complex(a2, b2) \n",
        "  \n",
        "  \n",
        "print(\"Multiplication is :\", mulComplex(z1,z2)) "
      ],
      "execution_count": 3,
      "outputs": [
        {
          "output_type": "stream",
          "text": [
            "Enter a1: 2\n",
            "Enter b1: 3\n",
            "Enter a2: 4\n",
            "Enter b2: 5\n",
            "Multiplication is : (-7+22j)\n"
          ],
          "name": "stdout"
        }
      ]
    },
    {
      "cell_type": "code",
      "metadata": {
        "id": "ldjZGyjcTPV0",
        "colab_type": "code",
        "colab": {
          "base_uri": "https://localhost:8080/",
          "height": 102
        },
        "outputId": "7a82aaf3-615c-4eb3-dd32-9e87a78137a6"
      },
      "source": [
        "# Python program to demonstrate \n",
        "# division of complex numbers \n",
        "  \n",
        "  \n",
        "def divComplex( z1, z2): \n",
        "    return z1 / z2 \n",
        "  \n",
        "# driver code \n",
        "  \n",
        "a1=int(input(\"Enter a1: \")) #2\n",
        "b1=int(input(\"Enter b1: \")) #3\n",
        "a2=int(input(\"Enter a2: \")) #4\n",
        "b2=int(input(\"Enter b2: \")) #5\n",
        "z1 = complex(a1, b1) \n",
        "z2 = complex(a2, b2)  \n",
        "  \n",
        "print( \"Division is :\", (divComplex(z1, z2)) )"
      ],
      "execution_count": 5,
      "outputs": [
        {
          "output_type": "stream",
          "text": [
            "Enter a1: 2\n",
            "Enter b1: 3\n",
            "Enter a2: 4\n",
            "Enter b2: 5\n",
            "Division is : (0.5609756097560976+0.0487804878048781j)\n"
          ],
          "name": "stdout"
        }
      ]
    },
    {
      "cell_type": "code",
      "metadata": {
        "id": "8qmLJzPqUirK",
        "colab_type": "code",
        "colab": {
          "base_uri": "https://localhost:8080/",
          "height": 646
        },
        "outputId": "78048088-857e-441c-9af9-357b9a13293a"
      },
      "source": [
        "# Python program to print calendar for given year \n",
        "  \n",
        "# importing calendar library \n",
        "import calendar \n",
        "  \n",
        "def printcalendar(year): \n",
        "       \n",
        "     # printing calendar \n",
        "     print(calendar.calendar(year)) \n",
        "  \n",
        "# driver program to test above function \n",
        "year = int(input(\"Enter year to print calender: \"))\n",
        "printcalendar(year)"
      ],
      "execution_count": 9,
      "outputs": [
        {
          "output_type": "stream",
          "text": [
            "Enter year to print calender: 2019\n",
            "                                  2019\n",
            "\n",
            "      January                   February                   March\n",
            "Mo Tu We Th Fr Sa Su      Mo Tu We Th Fr Sa Su      Mo Tu We Th Fr Sa Su\n",
            "    1  2  3  4  5  6                   1  2  3                   1  2  3\n",
            " 7  8  9 10 11 12 13       4  5  6  7  8  9 10       4  5  6  7  8  9 10\n",
            "14 15 16 17 18 19 20      11 12 13 14 15 16 17      11 12 13 14 15 16 17\n",
            "21 22 23 24 25 26 27      18 19 20 21 22 23 24      18 19 20 21 22 23 24\n",
            "28 29 30 31               25 26 27 28               25 26 27 28 29 30 31\n",
            "\n",
            "       April                      May                       June\n",
            "Mo Tu We Th Fr Sa Su      Mo Tu We Th Fr Sa Su      Mo Tu We Th Fr Sa Su\n",
            " 1  2  3  4  5  6  7             1  2  3  4  5                      1  2\n",
            " 8  9 10 11 12 13 14       6  7  8  9 10 11 12       3  4  5  6  7  8  9\n",
            "15 16 17 18 19 20 21      13 14 15 16 17 18 19      10 11 12 13 14 15 16\n",
            "22 23 24 25 26 27 28      20 21 22 23 24 25 26      17 18 19 20 21 22 23\n",
            "29 30                     27 28 29 30 31            24 25 26 27 28 29 30\n",
            "\n",
            "        July                     August                  September\n",
            "Mo Tu We Th Fr Sa Su      Mo Tu We Th Fr Sa Su      Mo Tu We Th Fr Sa Su\n",
            " 1  2  3  4  5  6  7                1  2  3  4                         1\n",
            " 8  9 10 11 12 13 14       5  6  7  8  9 10 11       2  3  4  5  6  7  8\n",
            "15 16 17 18 19 20 21      12 13 14 15 16 17 18       9 10 11 12 13 14 15\n",
            "22 23 24 25 26 27 28      19 20 21 22 23 24 25      16 17 18 19 20 21 22\n",
            "29 30 31                  26 27 28 29 30 31         23 24 25 26 27 28 29\n",
            "                                                    30\n",
            "\n",
            "      October                   November                  December\n",
            "Mo Tu We Th Fr Sa Su      Mo Tu We Th Fr Sa Su      Mo Tu We Th Fr Sa Su\n",
            "    1  2  3  4  5  6                   1  2  3                         1\n",
            " 7  8  9 10 11 12 13       4  5  6  7  8  9 10       2  3  4  5  6  7  8\n",
            "14 15 16 17 18 19 20      11 12 13 14 15 16 17       9 10 11 12 13 14 15\n",
            "21 22 23 24 25 26 27      18 19 20 21 22 23 24      16 17 18 19 20 21 22\n",
            "28 29 30 31               25 26 27 28 29 30         23 24 25 26 27 28 29\n",
            "                                                    30 31\n",
            "\n"
          ],
          "name": "stdout"
        }
      ]
    },
    {
      "cell_type": "code",
      "metadata": {
        "id": "O4bNuAOSU2tV",
        "colab_type": "code",
        "colab": {
          "base_uri": "https://localhost:8080/",
          "height": 136
        },
        "outputId": "34aa9aa2-728a-4170-b3a4-5cbea39bd854"
      },
      "source": [
        "# Python3 program for binary traversal of binary tree \n",
        "  \n",
        "# A binary tree node \n",
        "class Node: \n",
        "  \n",
        "    # Constructor to create a new node \n",
        "    def __init__(self, data): \n",
        "        self.data = data  \n",
        "        self.left = None\n",
        "        self.right = None\n",
        "  \n",
        "# A simple function to print leaf nodes of a Binary Tree \n",
        "def printLeaves(root): \n",
        "    if(root): \n",
        "        printLeaves(root.left) \n",
        "          \n",
        "        # Print it if it is a leaf node \n",
        "        if root.left is None and root.right is None: \n",
        "            print(root.data), \n",
        "  \n",
        "        printLeaves(root.right) \n",
        "  \n",
        "# A function to print all left boundary nodes, except a  \n",
        "# leaf node. Print the nodes in TOP DOWN manner \n",
        "def printBoundaryLeft(root): \n",
        "      \n",
        "    if(root): \n",
        "        if (root.left): \n",
        "              \n",
        "            # to ensure top down order, print the node \n",
        "            # before calling itself for left subtree \n",
        "            print(root.data) \n",
        "            printBoundaryLeft(root.left) \n",
        "          \n",
        "        elif(root.right): \n",
        "            print (root.data) \n",
        "            printBoundaryLeft(root.right) \n",
        "          \n",
        "        # do nothing if it is a leaf node, this way we \n",
        "        # avoid duplicates in output \n",
        "  \n",
        "  \n",
        "# A function to print all right boundary nodes, except \n",
        "# a leaf node. Print the nodes in BOTTOM UP manner \n",
        "def printBoundaryRight(root): \n",
        "      \n",
        "    if(root): \n",
        "        if (root.right): \n",
        "            # to ensure bottom up order, first call for \n",
        "            # right subtree, then print this node \n",
        "            printBoundaryRight(root.right) \n",
        "            print(root.data) \n",
        "          \n",
        "        elif(root.left): \n",
        "            printBoundaryRight(root.left) \n",
        "            print(root.data) \n",
        "  \n",
        "        # do nothing if it is a leaf node, this way we  \n",
        "        # avoid duplicates in output \n",
        "  \n",
        "  \n",
        "# A function to do boundary traversal of a given binary tree \n",
        "def printBoundary(root): \n",
        "    if (root): \n",
        "        print(root.data) \n",
        "          \n",
        "        # Print the left boundary in top-down manner \n",
        "        printBoundaryLeft(root.left) \n",
        "  \n",
        "        # Print all leaf nodes \n",
        "        printLeaves(root.left) \n",
        "        printLeaves(root.right) \n",
        "  \n",
        "        # Print the right boundary in bottom-up manner \n",
        "        printBoundaryRight(root.right) \n",
        "  \n",
        "  \n",
        "# Driver program to test above function \n",
        "root = Node(20) \n",
        "root.left = Node(8) \n",
        "root.left.left = Node(4) \n",
        "root.left.right = Node(12) \n",
        "root.left.right.left = Node(10) \n",
        "root.left.right.right = Node(14) \n",
        "root.right = Node(22) \n",
        "root.right.right = Node(25) \n",
        "printBoundary(root) "
      ],
      "execution_count": 10,
      "outputs": [
        {
          "output_type": "stream",
          "text": [
            "20\n",
            "8\n",
            "4\n",
            "10\n",
            "14\n",
            "25\n",
            "22\n"
          ],
          "name": "stdout"
        }
      ]
    },
    {
      "cell_type": "code",
      "metadata": {
        "id": "LNWtfrTTVYQ7",
        "colab_type": "code",
        "colab": {}
      },
      "source": [
        ""
      ],
      "execution_count": null,
      "outputs": []
    }
  ]
}