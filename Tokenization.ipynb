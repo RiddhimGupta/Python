{
  "nbformat": 4,
  "nbformat_minor": 0,
  "metadata": {
    "colab": {
      "name": "Untitled5.ipynb",
      "version": "0.3.2",
      "provenance": [],
      "include_colab_link": true
    },
    "kernelspec": {
      "name": "python3",
      "display_name": "Python 3"
    }
  },
  "cells": [
    {
      "cell_type": "markdown",
      "metadata": {
        "id": "view-in-github",
        "colab_type": "text"
      },
      "source": [
        "<a href=\"https://colab.research.google.com/github/RiddhimGupta/Python/blob/master/Tokenization.ipynb\" target=\"_parent\"><img src=\"https://colab.research.google.com/assets/colab-badge.svg\" alt=\"Open In Colab\"/></a>"
      ]
    },
    {
      "cell_type": "code",
      "metadata": {
        "id": "bv8GomS8QUDT",
        "colab_type": "code",
        "colab": {
          "base_uri": "https://localhost:8080/",
          "height": 67
        },
        "outputId": "b0816636-fe62-426d-f458-cf2a74b2bc0b"
      },
      "source": [
        "msg='''hello world this is me and i am living a happy life enjoying it to the fullest.\n",
        "Having good days and enjoying my days at coaching with my lovely friends but I\n",
        "doubt the one regarding studies. Any questions?'''\n",
        "import nltk\n",
        "nltk.download('punkt')"
      ],
      "execution_count": 5,
      "outputs": [
        {
          "output_type": "stream",
          "text": [
            "[nltk_data] Downloading package punkt to /root/nltk_data...\n",
            "[nltk_data]   Unzipping tokenizers/punkt.zip.\n"
          ],
          "name": "stdout"
        },
        {
          "output_type": "execute_result",
          "data": {
            "text/plain": [
              "True"
            ]
          },
          "metadata": {
            "tags": []
          },
          "execution_count": 5
        }
      ]
    },
    {
      "cell_type": "code",
      "metadata": {
        "id": "Oif2IX-JXvFl",
        "colab_type": "code",
        "colab": {}
      },
      "source": [
        "#import tokenizer\n",
        "from nltk.tokenize import sent_tokenize\n",
        "from nltk.tokenize import word_tokenize"
      ],
      "execution_count": 0,
      "outputs": []
    },
    {
      "cell_type": "code",
      "metadata": {
        "id": "LrgVChhPX3QQ",
        "colab_type": "code",
        "colab": {}
      },
      "source": [
        "#sentence tokenize\n",
        "sent=sent_tokenize(msg)"
      ],
      "execution_count": 0,
      "outputs": []
    },
    {
      "cell_type": "code",
      "metadata": {
        "id": "LPeNJvmLX9DR",
        "colab_type": "code",
        "colab": {
          "base_uri": "https://localhost:8080/",
          "height": 67
        },
        "outputId": "3931b4ae-df44-42cb-b19b-7f7fa94ab0f4"
      },
      "source": [
        "sent"
      ],
      "execution_count": 8,
      "outputs": [
        {
          "output_type": "execute_result",
          "data": {
            "text/plain": [
              "['hello world this is me and i am living a happy life enjoying it to the fullest.',\n",
              " 'Having good days and enjoying my days at coaching with my lovely friends but I\\ndoubt the one regarding studies.',\n",
              " 'Any questions?']"
            ]
          },
          "metadata": {
            "tags": []
          },
          "execution_count": 8
        }
      ]
    },
    {
      "cell_type": "code",
      "metadata": {
        "id": "_R-25VRVYRDp",
        "colab_type": "code",
        "colab": {
          "base_uri": "https://localhost:8080/",
          "height": 34
        },
        "outputId": "22df22d6-5898-4ac9-f6b9-6dbfbc9d7c53"
      },
      "source": [
        "len(sent)"
      ],
      "execution_count": 9,
      "outputs": [
        {
          "output_type": "execute_result",
          "data": {
            "text/plain": [
              "3"
            ]
          },
          "metadata": {
            "tags": []
          },
          "execution_count": 9
        }
      ]
    },
    {
      "cell_type": "code",
      "metadata": {
        "id": "E2a-MPdaYaEZ",
        "colab_type": "code",
        "colab": {
          "base_uri": "https://localhost:8080/",
          "height": 722
        },
        "outputId": "1d765ff7-1928-4ca0-983e-8a5dfc8485d5"
      },
      "source": [
        "#word tokenizer\n",
        "word=word_tokenize(msg)\n",
        "word"
      ],
      "execution_count": 12,
      "outputs": [
        {
          "output_type": "execute_result",
          "data": {
            "text/plain": [
              "['hello',\n",
              " 'world',\n",
              " 'this',\n",
              " 'is',\n",
              " 'me',\n",
              " 'and',\n",
              " 'i',\n",
              " 'am',\n",
              " 'living',\n",
              " 'a',\n",
              " 'happy',\n",
              " 'life',\n",
              " 'enjoying',\n",
              " 'it',\n",
              " 'to',\n",
              " 'the',\n",
              " 'fullest',\n",
              " '.',\n",
              " 'Having',\n",
              " 'good',\n",
              " 'days',\n",
              " 'and',\n",
              " 'enjoying',\n",
              " 'my',\n",
              " 'days',\n",
              " 'at',\n",
              " 'coaching',\n",
              " 'with',\n",
              " 'my',\n",
              " 'lovely',\n",
              " 'friends',\n",
              " 'but',\n",
              " 'I',\n",
              " 'doubt',\n",
              " 'the',\n",
              " 'one',\n",
              " 'regarding',\n",
              " 'studies',\n",
              " '.',\n",
              " 'Any',\n",
              " 'questions',\n",
              " '?']"
            ]
          },
          "metadata": {
            "tags": []
          },
          "execution_count": 12
        }
      ]
    },
    {
      "cell_type": "code",
      "metadata": {
        "id": "rt69y_82YfGU",
        "colab_type": "code",
        "colab": {
          "base_uri": "https://localhost:8080/",
          "height": 34
        },
        "outputId": "0d68beda-856b-4bf8-d6dc-ba0434776076"
      },
      "source": [
        "len(word)"
      ],
      "execution_count": 13,
      "outputs": [
        {
          "output_type": "execute_result",
          "data": {
            "text/plain": [
              "42"
            ]
          },
          "metadata": {
            "tags": []
          },
          "execution_count": 13
        }
      ]
    },
    {
      "cell_type": "code",
      "metadata": {
        "id": "vq1IQg-3YgTp",
        "colab_type": "code",
        "colab": {}
      },
      "source": [
        "#stopwords remove\n",
        "from nltk.corpus import stopwords"
      ],
      "execution_count": 0,
      "outputs": []
    },
    {
      "cell_type": "code",
      "metadata": {
        "id": "-G2HlOoDYuDN",
        "colab_type": "code",
        "colab": {}
      },
      "source": [
        "#remove stopwords from actual word\n",
        "new_word=[i for i in word if i.lower() not in stopwords.words('english')]"
      ],
      "execution_count": 0,
      "outputs": []
    },
    {
      "cell_type": "code",
      "metadata": {
        "id": "KuKKT5OpY_vB",
        "colab_type": "code",
        "colab": {
          "base_uri": "https://localhost:8080/",
          "height": 34
        },
        "outputId": "d3fc8778-84ed-4059-f15c-7d79cbb205ec"
      },
      "source": [
        "len(new_word)"
      ],
      "execution_count": 16,
      "outputs": [
        {
          "output_type": "execute_result",
          "data": {
            "text/plain": [
              "22"
            ]
          },
          "metadata": {
            "tags": []
          },
          "execution_count": 16
        }
      ]
    },
    {
      "cell_type": "code",
      "metadata": {
        "id": "D4E7dAJyZDt0",
        "colab_type": "code",
        "colab": {}
      },
      "source": [
        "# frequency\n",
        "import nltk\n",
        "import matplotlib.pyplot as plt"
      ],
      "execution_count": 0,
      "outputs": []
    },
    {
      "cell_type": "code",
      "metadata": {
        "id": "C6tsaJvBZHvU",
        "colab_type": "code",
        "colab": {
          "base_uri": "https://localhost:8080/",
          "height": 322
        },
        "outputId": "18e58b70-7a32-41f9-918a-f2c9872ef9ee"
      },
      "source": [
        "nlp=nltk.FreqDist(word)\n",
        "nlp.plot() #plot in actual words"
      ],
      "execution_count": 20,
      "outputs": [
        {
          "output_type": "display_data",
          "data": {
            "image/png": "[encoded data removed]",
            "text/plain": [
              "<Figure size 432x288 with 1 Axes>"
            ]
          },
          "metadata": {
            "tags": []
          }
        }
      ]
    },
    {
      "cell_type": "code",
      "metadata": {
        "id": "gA0SrLHoZT1K",
        "colab_type": "code",
        "colab": {}
      },
      "source": [
        ""
      ],
      "execution_count": 0,
      "outputs": []
    }
  ]
}