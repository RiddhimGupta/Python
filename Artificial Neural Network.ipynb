{
  "nbformat": 4,
  "nbformat_minor": 0,
  "metadata": {
    "colab": {
      "name": "Untitled13.ipynb",
      "version": "0.3.2",
      "provenance": [],
      "include_colab_link": true
    },
    "kernelspec": {
      "name": "python3",
      "display_name": "Python 3"
    }
  },
  "cells": [
    {
      "cell_type": "markdown",
      "metadata": {
        "id": "view-in-github",
        "colab_type": "text"
      },
      "source": [
        "<a href=\"https://colab.research.google.com/github/RiddhimGupta/Python/blob/master/Artificial%20Neural%20Network.ipynb\" target=\"_parent\"><img src=\"https://colab.research.google.com/assets/colab-badge.svg\" alt=\"Open In Colab\"/></a>"
      ]
    },
    {
      "cell_type": "code",
      "metadata": {
        "id": "_4bKPWUKgdhz",
        "colab_type": "code",
        "outputId": "71cd0d4c-de77-4366-d29d-79bd689e4430",
        "colab": {
          "base_uri": "https://localhost:8080/",
          "height": 34
        }
      },
      "source": [
        "#loading data via pandas\n",
        "import keras\n",
        "import matplotlib.pyplot as mlt\n",
        "import seaborn as sb\n",
        "import pandas as pd"
      ],
      "execution_count": 1,
      "outputs": [
        {
          "output_type": "stream",
          "text": [
            "Using TensorFlow backend.\n"
          ],
          "name": "stderr"
        }
      ]
    },
    {
      "cell_type": "code",
      "metadata": {
        "id": "EUfHhZIqgiiv",
        "colab_type": "code",
        "colab": {}
      },
      "source": [
        "df=pd.read_csv('http://13.234.66.67/summer19/datasets/bank.csv')"
      ],
      "execution_count": 0,
      "outputs": []
    },
    {
      "cell_type": "code",
      "metadata": {
        "id": "_N57BFwcgkdu",
        "colab_type": "code",
        "outputId": "93a28c4f-3cb5-4d14-ca51-ecf9f53608de",
        "colab": {
          "base_uri": "https://localhost:8080/",
          "height": 197
        }
      },
      "source": [
        "df.head()"
      ],
      "execution_count": 3,
      "outputs": [
        {
          "output_type": "execute_result",
          "data": {
            "text/html": [
              "<div>\n",
              "<style scoped>\n",
              "    .dataframe tbody tr th:only-of-type {\n",
              "        vertical-align: middle;\n",
              "    }\n",
              "\n",
              "    .dataframe tbody tr th {\n",
              "        vertical-align: top;\n",
              "    }\n",
              "\n",
              "    .dataframe thead th {\n",
              "        text-align: right;\n",
              "    }\n",
              "</style>\n",
              "<table border=\"1\" class=\"dataframe\">\n",
              "  <thead>\n",
              "    <tr style=\"text-align: right;\">\n",
              "      <th></th>\n",
              "      <th>RowNumber</th>\n",
              "      <th>CustomerId</th>\n",
              "      <th>Surname</th>\n",
              "      <th>CreditScore</th>\n",
              "      <th>Geography</th>\n",
              "      <th>Gender</th>\n",
              "      <th>Age</th>\n",
              "      <th>Tenure</th>\n",
              "      <th>Balance</th>\n",
              "      <th>NumOfProducts</th>\n",
              "      <th>HasCrCard</th>\n",
              "      <th>IsActiveMember</th>\n",
              "      <th>EstimatedSalary</th>\n",
              "      <th>Exited</th>\n",
              "    </tr>\n",
              "  </thead>\n",
              "  <tbody>\n",
              "    <tr>\n",
              "      <th>0</th>\n",
              "      <td>1</td>\n",
              "      <td>15634602</td>\n",
              "      <td>Hargrave</td>\n",
              "      <td>619</td>\n",
              "      <td>France</td>\n",
              "      <td>Female</td>\n",
              "      <td>42</td>\n",
              "      <td>2</td>\n",
              "      <td>0.00</td>\n",
              "      <td>1</td>\n",
              "      <td>1</td>\n",
              "      <td>1</td>\n",
              "      <td>101348.88</td>\n",
              "      <td>1</td>\n",
              "    </tr>\n",
              "    <tr>\n",
              "      <th>1</th>\n",
              "      <td>2</td>\n",
              "      <td>15647311</td>\n",
              "      <td>Hill</td>\n",
              "      <td>608</td>\n",
              "      <td>Spain</td>\n",
              "      <td>Female</td>\n",
              "      <td>41</td>\n",
              "      <td>1</td>\n",
              "      <td>83807.86</td>\n",
              "      <td>1</td>\n",
              "      <td>0</td>\n",
              "      <td>1</td>\n",
              "      <td>112542.58</td>\n",
              "      <td>0</td>\n",
              "    </tr>\n",
              "    <tr>\n",
              "      <th>2</th>\n",
              "      <td>3</td>\n",
              "      <td>15619304</td>\n",
              "      <td>Onio</td>\n",
              "      <td>502</td>\n",
              "      <td>France</td>\n",
              "      <td>Female</td>\n",
              "      <td>42</td>\n",
              "      <td>8</td>\n",
              "      <td>159660.80</td>\n",
              "      <td>3</td>\n",
              "      <td>1</td>\n",
              "      <td>0</td>\n",
              "      <td>113931.57</td>\n",
              "      <td>1</td>\n",
              "    </tr>\n",
              "    <tr>\n",
              "      <th>3</th>\n",
              "      <td>4</td>\n",
              "      <td>15701354</td>\n",
              "      <td>Boni</td>\n",
              "      <td>699</td>\n",
              "      <td>France</td>\n",
              "      <td>Female</td>\n",
              "      <td>39</td>\n",
              "      <td>1</td>\n",
              "      <td>0.00</td>\n",
              "      <td>2</td>\n",
              "      <td>0</td>\n",
              "      <td>0</td>\n",
              "      <td>93826.63</td>\n",
              "      <td>0</td>\n",
              "    </tr>\n",
              "    <tr>\n",
              "      <th>4</th>\n",
              "      <td>5</td>\n",
              "      <td>15737888</td>\n",
              "      <td>Mitchell</td>\n",
              "      <td>850</td>\n",
              "      <td>Spain</td>\n",
              "      <td>Female</td>\n",
              "      <td>43</td>\n",
              "      <td>2</td>\n",
              "      <td>125510.82</td>\n",
              "      <td>1</td>\n",
              "      <td>1</td>\n",
              "      <td>1</td>\n",
              "      <td>79084.10</td>\n",
              "      <td>0</td>\n",
              "    </tr>\n",
              "  </tbody>\n",
              "</table>\n",
              "</div>"
            ],
            "text/plain": [
              "   RowNumber  CustomerId   Surname  ...  IsActiveMember EstimatedSalary Exited\n",
              "0          1    15634602  Hargrave  ...               1       101348.88      1\n",
              "1          2    15647311      Hill  ...               1       112542.58      0\n",
              "2          3    15619304      Onio  ...               0       113931.57      1\n",
              "3          4    15701354      Boni  ...               0        93826.63      0\n",
              "4          5    15737888  Mitchell  ...               1        79084.10      0\n",
              "\n",
              "[5 rows x 14 columns]"
            ]
          },
          "metadata": {
            "tags": []
          },
          "execution_count": 3
        }
      ]
    },
    {
      "cell_type": "code",
      "metadata": {
        "id": "9cPuCsFCgywo",
        "colab_type": "code",
        "outputId": "73742caa-7051-450c-bf17-2f9bb84c96eb",
        "colab": {
          "base_uri": "https://localhost:8080/",
          "height": 300
        }
      },
      "source": [
        "#countplot by seaborn\n",
        "sb.countplot(df['Gender'])"
      ],
      "execution_count": 4,
      "outputs": [
        {
          "output_type": "execute_result",
          "data": {
            "text/plain": [
              "<matplotlib.axes._subplots.AxesSubplot at 0x7f9cd1b2cfd0>"
            ]
          },
          "metadata": {
            "tags": []
          },
          "execution_count": 4
        },
        {
          "output_type": "display_data",
          "data": {
            "image/png": "[encoded data removed]",
            "text/plain": [
              "<Figure size 432x288 with 1 Axes>"
            ]
          },
          "metadata": {
            "tags": []
          }
        }
      ]
    },
    {
      "cell_type": "code",
      "metadata": {
        "id": "dglbK6lxg06H",
        "colab_type": "code",
        "outputId": "518b76ca-2eb3-42fe-e971-1753361711fd",
        "colab": {
          "base_uri": "https://localhost:8080/",
          "height": 300
        }
      },
      "source": [
        "sb.countplot(df['Geography'])"
      ],
      "execution_count": 5,
      "outputs": [
        {
          "output_type": "execute_result",
          "data": {
            "text/plain": [
              "<matplotlib.axes._subplots.AxesSubplot at 0x7f9cd1a8af98>"
            ]
          },
          "metadata": {
            "tags": []
          },
          "execution_count": 5
        },
        {
          "output_type": "display_data",
          "data": {
            "image/png": "[encoded data removed]",
            "text/plain": [
              "<Figure size 432x288 with 1 Axes>"
            ]
          },
          "metadata": {
            "tags": []
          }
        }
      ]
    },
    {
      "cell_type": "code",
      "metadata": {
        "id": "7KaU9SZXg3GW",
        "colab_type": "code",
        "colab": {}
      },
      "source": [
        "#features and label of data\n",
        "features=df.iloc[0:,3:13].values"
      ],
      "execution_count": 0,
      "outputs": []
    },
    {
      "cell_type": "code",
      "metadata": {
        "id": "jThyPgYkg5N1",
        "colab_type": "code",
        "outputId": "baae80e9-edbb-45c3-f45d-026fecda7438",
        "colab": {
          "base_uri": "https://localhost:8080/",
          "height": 141
        }
      },
      "source": [
        "features"
      ],
      "execution_count": 7,
      "outputs": [
        {
          "output_type": "execute_result",
          "data": {
            "text/plain": [
              "array([[619, 'France', 'Female', ..., 1, 1, 101348.88],\n",
              "       [608, 'Spain', 'Female', ..., 0, 1, 112542.58],\n",
              "       [502, 'France', 'Female', ..., 1, 0, 113931.57],\n",
              "       ...,\n",
              "       [709, 'France', 'Female', ..., 0, 1, 42085.58],\n",
              "       [772, 'Germany', 'Male', ..., 1, 0, 92888.52],\n",
              "       [792, 'France', 'Female', ..., 1, 0, 38190.78]], dtype=object)"
            ]
          },
          "metadata": {
            "tags": []
          },
          "execution_count": 7
        }
      ]
    },
    {
      "cell_type": "code",
      "metadata": {
        "id": "tfHjeb9og7bh",
        "colab_type": "code",
        "colab": {
          "base_uri": "https://localhost:8080/",
          "height": 34
        },
        "outputId": "0c2e6845-cde5-4144-92b7-f34e835fa850"
      },
      "source": [
        "# bank exit status\n",
        "#finding label\n",
        "labels=df.iloc[:,13:14].values\n",
        "labels.shape"
      ],
      "execution_count": 8,
      "outputs": [
        {
          "output_type": "execute_result",
          "data": {
            "text/plain": [
              "(10000, 1)"
            ]
          },
          "metadata": {
            "tags": []
          },
          "execution_count": 8
        }
      ]
    },
    {
      "cell_type": "code",
      "metadata": {
        "id": "uSPK_HqAg9cx",
        "colab_type": "code",
        "colab": {}
      },
      "source": [
        "#to convert string data into numeric we apply label encoding\n",
        "from sklearn.preprocessing import LabelEncoder"
      ],
      "execution_count": 0,
      "outputs": []
    },
    {
      "cell_type": "code",
      "metadata": {
        "id": "EZDm0CFdg_sY",
        "colab_type": "code",
        "colab": {}
      },
      "source": [
        "countenc=LabelEncoder() #function call"
      ],
      "execution_count": 0,
      "outputs": []
    },
    {
      "cell_type": "code",
      "metadata": {
        "id": "DosMG9UYhBOl",
        "colab_type": "code",
        "colab": {}
      },
      "source": [
        "# fit country and transform into a number\n",
        "features[0:,1]=countenc.fit_transform(features[0:,1])\n"
      ],
      "execution_count": 0,
      "outputs": []
    },
    {
      "cell_type": "code",
      "metadata": {
        "id": "TBt4r5tohCt2",
        "colab_type": "code",
        "colab": {}
      },
      "source": [
        "# same is done for gender\n",
        "features[0:,2]=countenc.fit_transform(features[0:,2])"
      ],
      "execution_count": 0,
      "outputs": []
    },
    {
      "cell_type": "code",
      "metadata": {
        "id": "LmvhmoCwhEck",
        "colab_type": "code",
        "colab": {}
      },
      "source": [
        "# creating dummy variables using onehot encoder\n",
        "from sklearn.preprocessing import OneHotEncoder"
      ],
      "execution_count": 0,
      "outputs": []
    },
    {
      "cell_type": "code",
      "metadata": {
        "id": "V20ej_o5hGQZ",
        "colab_type": "code",
        "colab": {}
      },
      "source": [
        "#calling function\n",
        "counthot=OneHotEncoder(categorical_features=[1])"
      ],
      "execution_count": 0,
      "outputs": []
    },
    {
      "cell_type": "code",
      "metadata": {
        "id": "1sjZdOkthIG2",
        "colab_type": "code",
        "outputId": "b9e79fa0-1a99-4ecf-e6fc-bcf47a20cac2",
        "colab": {
          "base_uri": "https://localhost:8080/",
          "height": 143
        }
      },
      "source": [
        "# fit and transform\n",
        "features=counthot.fit_transform(features).toarray()\n",
        "features1=features[:,1:]\n"
      ],
      "execution_count": 24,
      "outputs": [
        {
          "output_type": "stream",
          "text": [
            "/usr/local/lib/python3.6/dist-packages/sklearn/preprocessing/_encoders.py:415: FutureWarning: The handling of integer data will change in version 0.22. Currently, the categories are determined based on the range [0, max(values)], while in the future they will be determined based on the unique values.\n",
            "If you want the future behaviour and silence this warning, you can specify \"categories='auto'\".\n",
            "In case you used a LabelEncoder before this OneHotEncoder to convert the categories to integers, then you can now use the OneHotEncoder directly.\n",
            "  warnings.warn(msg, FutureWarning)\n",
            "/usr/local/lib/python3.6/dist-packages/sklearn/preprocessing/_encoders.py:451: DeprecationWarning: The 'categorical_features' keyword is deprecated in version 0.20 and will be removed in 0.22. You can use the ColumnTransformer instead.\n",
            "  \"use the ColumnTransformer instead.\", DeprecationWarning)\n"
          ],
          "name": "stderr"
        }
      ]
    },
    {
      "cell_type": "code",
      "metadata": {
        "id": "kGzeKsagBd-6",
        "colab_type": "code",
        "colab": {
          "base_uri": "https://localhost:8080/",
          "height": 34
        },
        "outputId": "38e1296f-5f35-4261-ef67-238dae3c3e24"
      },
      "source": [
        "features1.shape"
      ],
      "execution_count": 25,
      "outputs": [
        {
          "output_type": "execute_result",
          "data": {
            "text/plain": [
              "(10000, 11)"
            ]
          },
          "metadata": {
            "tags": []
          },
          "execution_count": 25
        }
      ]
    },
    {
      "cell_type": "code",
      "metadata": {
        "id": "98AfWCCW6bIe",
        "colab_type": "code",
        "colab": {}
      },
      "source": [
        "# training and testing\n",
        "from sklearn.model_selection import train_test_split"
      ],
      "execution_count": 0,
      "outputs": []
    },
    {
      "cell_type": "code",
      "metadata": {
        "id": "7sT4cCqV79po",
        "colab_type": "code",
        "colab": {}
      },
      "source": [
        "X,x,Y,y=train_test_split(features1,labels,test_size=0.2)"
      ],
      "execution_count": 0,
      "outputs": []
    },
    {
      "cell_type": "code",
      "metadata": {
        "id": "e22LI1a78bpV",
        "colab_type": "code",
        "colab": {}
      },
      "source": [
        "#feature scaling\n",
        "from sklearn.preprocessing import StandardScaler"
      ],
      "execution_count": 0,
      "outputs": []
    },
    {
      "cell_type": "code",
      "metadata": {
        "id": "Upfnp0oH8zIP",
        "colab_type": "code",
        "colab": {}
      },
      "source": [
        "sc=StandardScaler()"
      ],
      "execution_count": 0,
      "outputs": []
    },
    {
      "cell_type": "code",
      "metadata": {
        "id": "FEzwNbOz81Ii",
        "colab_type": "code",
        "colab": {}
      },
      "source": [
        "#training data scale\n",
        "X=sc.fit_transform(X)"
      ],
      "execution_count": 0,
      "outputs": []
    },
    {
      "cell_type": "code",
      "metadata": {
        "id": "U4XqpYxc894e",
        "colab_type": "code",
        "colab": {}
      },
      "source": [
        "#testing data transform\n",
        "x=sc.transform(x)"
      ],
      "execution_count": 0,
      "outputs": []
    },
    {
      "cell_type": "code",
      "metadata": {
        "id": "k4owd5Sj9BDK",
        "colab_type": "code",
        "colab": {
          "base_uri": "https://localhost:8080/",
          "height": 34
        },
        "outputId": "771f52a0-47ed-4e1f-9941-d7f3790bf016"
      },
      "source": [
        "#X\n",
        "x.shape"
      ],
      "execution_count": 32,
      "outputs": [
        {
          "output_type": "execute_result",
          "data": {
            "text/plain": [
              "(2000, 11)"
            ]
          },
          "metadata": {
            "tags": []
          },
          "execution_count": 32
        }
      ]
    },
    {
      "cell_type": "code",
      "metadata": {
        "id": "G9h1saer-UmU",
        "colab_type": "code",
        "colab": {
          "base_uri": "https://localhost:8080/",
          "height": 34
        },
        "outputId": "c7674080-b1b6-45e6-e90b-facab80fedf9"
      },
      "source": [
        "#X\n",
        "X.shape"
      ],
      "execution_count": 33,
      "outputs": [
        {
          "output_type": "execute_result",
          "data": {
            "text/plain": [
              "(8000, 11)"
            ]
          },
          "metadata": {
            "tags": []
          },
          "execution_count": 33
        }
      ]
    },
    {
      "cell_type": "code",
      "metadata": {
        "id": "eDnH8qkOBke7",
        "colab_type": "code",
        "colab": {}
      },
      "source": [
        "# now we can create ANN model"
      ],
      "execution_count": 0,
      "outputs": []
    },
    {
      "cell_type": "code",
      "metadata": {
        "id": "ovvW7lMsCXj2",
        "colab_type": "code",
        "colab": {}
      },
      "source": [
        "import keras  # this is the way of using tensorflow in background"
      ],
      "execution_count": 0,
      "outputs": []
    },
    {
      "cell_type": "code",
      "metadata": {
        "id": "0Xx-5RjdCn7k",
        "colab_type": "code",
        "colab": {}
      },
      "source": [
        "# keras ANN model library import\n",
        "from keras.models import Sequential\n",
        "# this will offer external model of ANN"
      ],
      "execution_count": 0,
      "outputs": []
    },
    {
      "cell_type": "code",
      "metadata": {
        "id": "pB4oy2R5DAng",
        "colab_type": "code",
        "colab": {}
      },
      "source": [
        "# filling data in each layer\n",
        "from keras.layers import Dense  #this will create or give the method to decide the activation function \n",
        "#and number of nodws in each layer including input and output layer\n"
      ],
      "execution_count": 0,
      "outputs": []
    },
    {
      "cell_type": "code",
      "metadata": {
        "id": "FUM_ngo7D6Hx",
        "colab_type": "code",
        "colab": {
          "base_uri": "https://localhost:8080/",
          "height": 90
        },
        "outputId": "8dea0bab-cff6-4f6e-fcf0-0f1b4e42538c"
      },
      "source": [
        "#now we can design MODEL\n",
        "model=Sequential()\n"
      ],
      "execution_count": 38,
      "outputs": [
        {
          "output_type": "stream",
          "text": [
            "WARNING: Logging before flag parsing goes to stderr.\n",
            "W0708 10:10:42.319604 140312570677120 deprecation_wrapper.py:119] From /usr/local/lib/python3.6/dist-packages/keras/backend/tensorflow_backend.py:74: The name tf.get_default_graph is deprecated. Please use tf.compat.v1.get_default_graph instead.\n",
            "\n"
          ],
          "name": "stderr"
        }
      ]
    },
    {
      "cell_type": "code",
      "metadata": {
        "id": "oXQ7xavDEF5u",
        "colab_type": "code",
        "colab": {}
      },
      "source": [
        "# now we can add input layer \n",
        "model.add(Dense(6,input_shape=(11,)))\n",
        "# relu --means rectifier activation function"
      ],
      "execution_count": 0,
      "outputs": []
    },
    {
      "cell_type": "code",
      "metadata": {
        "id": "YasBuQiPEyl1",
        "colab_type": "code",
        "colab": {}
      },
      "source": [
        "# adding one more hidden layer\n",
        "model.add(Dense(6,activation='relu'))\n",
        "# note wee don't have to  assign number of inputs after first / input layer"
      ],
      "execution_count": 0,
      "outputs": []
    },
    {
      "cell_type": "code",
      "metadata": {
        "id": "IQkBpKkoHLNY",
        "colab_type": "code",
        "colab": {}
      },
      "source": [
        "# final layer adding\n",
        "model.add(Dense(1,activation='sigmoid'))"
      ],
      "execution_count": 0,
      "outputs": []
    },
    {
      "cell_type": "code",
      "metadata": {
        "id": "KKOely7MHymx",
        "colab_type": "code",
        "colab": {}
      },
      "source": [
        "# compile\n",
        "model.compile(optimizer='adam',loss='binary_crossentropy',metrics=['accuracy'])\n",
        "# optimizer ---weight adjust method --stochitis g d (adam)"
      ],
      "execution_count": 0,
      "outputs": []
    },
    {
      "cell_type": "code",
      "metadata": {
        "id": "5h7RRjaLI29K",
        "colab_type": "code",
        "colab": {
          "base_uri": "https://localhost:8080/",
          "height": 1000
        },
        "outputId": "280ee47b-0e0a-4a12-b351-1931455539f1"
      },
      "source": [
        "#training data fit\n",
        "model.fit(X,Y,batch_size=25,epochs=100)"
      ],
      "execution_count": 51,
      "outputs": [
        {
          "output_type": "stream",
          "text": [
            "Epoch 1/100\n",
            "8000/8000 [==============================] - 0s 54us/step - loss: 0.4027 - acc: 0.8297\n",
            "Epoch 2/100\n",
            "8000/8000 [==============================] - 0s 52us/step - loss: 0.3932 - acc: 0.8364\n",
            "Epoch 3/100\n",
            "8000/8000 [==============================] - 0s 50us/step - loss: 0.3760 - acc: 0.8466\n",
            "Epoch 4/100\n",
            "8000/8000 [==============================] - 0s 51us/step - loss: 0.3603 - acc: 0.8537\n",
            "Epoch 5/100\n",
            "8000/8000 [==============================] - 0s 51us/step - loss: 0.3520 - acc: 0.8589\n",
            "Epoch 6/100\n",
            "8000/8000 [==============================] - 0s 49us/step - loss: 0.3489 - acc: 0.8555\n",
            "Epoch 7/100\n",
            "8000/8000 [==============================] - 0s 49us/step - loss: 0.3467 - acc: 0.8592\n",
            "Epoch 8/100\n",
            "8000/8000 [==============================] - 0s 50us/step - loss: 0.3467 - acc: 0.8607\n",
            "Epoch 9/100\n",
            "8000/8000 [==============================] - 0s 50us/step - loss: 0.3459 - acc: 0.8587\n",
            "Epoch 10/100\n",
            "8000/8000 [==============================] - 0s 49us/step - loss: 0.3460 - acc: 0.8581\n",
            "Epoch 11/100\n",
            "8000/8000 [==============================] - 0s 49us/step - loss: 0.3453 - acc: 0.8591\n",
            "Epoch 12/100\n",
            "8000/8000 [==============================] - 0s 48us/step - loss: 0.3450 - acc: 0.8599\n",
            "Epoch 13/100\n",
            "8000/8000 [==============================] - 0s 48us/step - loss: 0.3454 - acc: 0.8595\n",
            "Epoch 14/100\n",
            "8000/8000 [==============================] - 0s 49us/step - loss: 0.3449 - acc: 0.8587\n",
            "Epoch 15/100\n",
            "8000/8000 [==============================] - 0s 49us/step - loss: 0.3445 - acc: 0.8604\n",
            "Epoch 16/100\n",
            "8000/8000 [==============================] - 0s 48us/step - loss: 0.3444 - acc: 0.8606\n",
            "Epoch 17/100\n",
            "8000/8000 [==============================] - 0s 48us/step - loss: 0.3449 - acc: 0.8590\n",
            "Epoch 18/100\n",
            "8000/8000 [==============================] - 0s 48us/step - loss: 0.3447 - acc: 0.8601\n",
            "Epoch 19/100\n",
            "8000/8000 [==============================] - 0s 48us/step - loss: 0.3444 - acc: 0.8610\n",
            "Epoch 20/100\n",
            "8000/8000 [==============================] - 0s 48us/step - loss: 0.3439 - acc: 0.8620\n",
            "Epoch 21/100\n",
            "8000/8000 [==============================] - 0s 49us/step - loss: 0.3441 - acc: 0.8619\n",
            "Epoch 22/100\n",
            "8000/8000 [==============================] - 0s 49us/step - loss: 0.3442 - acc: 0.8600\n",
            "Epoch 23/100\n",
            "8000/8000 [==============================] - 0s 49us/step - loss: 0.3439 - acc: 0.8610\n",
            "Epoch 24/100\n",
            "8000/8000 [==============================] - 0s 48us/step - loss: 0.3436 - acc: 0.8614\n",
            "Epoch 25/100\n",
            "8000/8000 [==============================] - 0s 49us/step - loss: 0.3437 - acc: 0.8610\n",
            "Epoch 26/100\n",
            "8000/8000 [==============================] - 0s 49us/step - loss: 0.3436 - acc: 0.8601\n",
            "Epoch 27/100\n",
            "8000/8000 [==============================] - 0s 49us/step - loss: 0.3435 - acc: 0.8589\n",
            "Epoch 28/100\n",
            "8000/8000 [==============================] - 0s 50us/step - loss: 0.3430 - acc: 0.8632\n",
            "Epoch 29/100\n",
            "8000/8000 [==============================] - 0s 50us/step - loss: 0.3428 - acc: 0.8610\n",
            "Epoch 30/100\n",
            "8000/8000 [==============================] - 0s 49us/step - loss: 0.3430 - acc: 0.8617\n",
            "Epoch 31/100\n",
            "8000/8000 [==============================] - 0s 49us/step - loss: 0.3431 - acc: 0.8609\n",
            "Epoch 32/100\n",
            "8000/8000 [==============================] - 0s 49us/step - loss: 0.3432 - acc: 0.8609\n",
            "Epoch 33/100\n",
            "8000/8000 [==============================] - 0s 49us/step - loss: 0.3426 - acc: 0.8602\n",
            "Epoch 34/100\n",
            "8000/8000 [==============================] - 0s 49us/step - loss: 0.3422 - acc: 0.8605\n",
            "Epoch 35/100\n",
            "8000/8000 [==============================] - 0s 51us/step - loss: 0.3432 - acc: 0.8592\n",
            "Epoch 36/100\n",
            "8000/8000 [==============================] - 0s 50us/step - loss: 0.3432 - acc: 0.8604\n",
            "Epoch 37/100\n",
            "8000/8000 [==============================] - 0s 50us/step - loss: 0.3422 - acc: 0.8614\n",
            "Epoch 38/100\n",
            "8000/8000 [==============================] - 0s 49us/step - loss: 0.3421 - acc: 0.8615\n",
            "Epoch 39/100\n",
            "8000/8000 [==============================] - 0s 49us/step - loss: 0.3426 - acc: 0.8617\n",
            "Epoch 40/100\n",
            "8000/8000 [==============================] - 0s 50us/step - loss: 0.3425 - acc: 0.8620\n",
            "Epoch 41/100\n",
            "8000/8000 [==============================] - 0s 49us/step - loss: 0.3424 - acc: 0.8590\n",
            "Epoch 42/100\n",
            "8000/8000 [==============================] - 0s 51us/step - loss: 0.3425 - acc: 0.8591\n",
            "Epoch 43/100\n",
            "8000/8000 [==============================] - 0s 49us/step - loss: 0.3423 - acc: 0.8600\n",
            "Epoch 44/100\n",
            "8000/8000 [==============================] - 0s 49us/step - loss: 0.3425 - acc: 0.8599\n",
            "Epoch 45/100\n",
            "8000/8000 [==============================] - 0s 49us/step - loss: 0.3417 - acc: 0.8626\n",
            "Epoch 46/100\n",
            "8000/8000 [==============================] - 0s 48us/step - loss: 0.3421 - acc: 0.8599\n",
            "Epoch 47/100\n",
            "8000/8000 [==============================] - 0s 48us/step - loss: 0.3413 - acc: 0.8616\n",
            "Epoch 48/100\n",
            "8000/8000 [==============================] - 0s 49us/step - loss: 0.3425 - acc: 0.8611\n",
            "Epoch 49/100\n",
            "8000/8000 [==============================] - 0s 48us/step - loss: 0.3421 - acc: 0.8611\n",
            "Epoch 50/100\n",
            "8000/8000 [==============================] - 0s 49us/step - loss: 0.3423 - acc: 0.8606\n",
            "Epoch 51/100\n",
            "8000/8000 [==============================] - 0s 49us/step - loss: 0.3421 - acc: 0.8626\n",
            "Epoch 52/100\n",
            "8000/8000 [==============================] - 0s 49us/step - loss: 0.3415 - acc: 0.8602\n",
            "Epoch 53/100\n",
            "8000/8000 [==============================] - 0s 48us/step - loss: 0.3423 - acc: 0.8599\n",
            "Epoch 54/100\n",
            "8000/8000 [==============================] - 0s 49us/step - loss: 0.3415 - acc: 0.8610\n",
            "Epoch 55/100\n",
            "8000/8000 [==============================] - 0s 49us/step - loss: 0.3416 - acc: 0.8619\n",
            "Epoch 56/100\n",
            "8000/8000 [==============================] - 0s 49us/step - loss: 0.3417 - acc: 0.8606\n",
            "Epoch 57/100\n",
            "8000/8000 [==============================] - 0s 48us/step - loss: 0.3416 - acc: 0.8591\n",
            "Epoch 58/100\n",
            "8000/8000 [==============================] - 0s 49us/step - loss: 0.3415 - acc: 0.8611\n",
            "Epoch 59/100\n",
            "8000/8000 [==============================] - 0s 49us/step - loss: 0.3419 - acc: 0.8619\n",
            "Epoch 60/100\n",
            "8000/8000 [==============================] - 0s 49us/step - loss: 0.3412 - acc: 0.8595\n",
            "Epoch 61/100\n",
            "8000/8000 [==============================] - 0s 49us/step - loss: 0.3415 - acc: 0.8630\n",
            "Epoch 62/100\n",
            "8000/8000 [==============================] - 0s 51us/step - loss: 0.3415 - acc: 0.8600\n",
            "Epoch 63/100\n",
            "8000/8000 [==============================] - 0s 49us/step - loss: 0.3416 - acc: 0.8610\n",
            "Epoch 64/100\n",
            "8000/8000 [==============================] - 0s 49us/step - loss: 0.3413 - acc: 0.8606\n",
            "Epoch 65/100\n",
            "8000/8000 [==============================] - 0s 49us/step - loss: 0.3409 - acc: 0.8610\n",
            "Epoch 66/100\n",
            "8000/8000 [==============================] - 0s 50us/step - loss: 0.3416 - acc: 0.8619\n",
            "Epoch 67/100\n",
            "8000/8000 [==============================] - 0s 50us/step - loss: 0.3409 - acc: 0.8606\n",
            "Epoch 68/100\n",
            "8000/8000 [==============================] - 0s 49us/step - loss: 0.3415 - acc: 0.8617\n",
            "Epoch 69/100\n",
            "8000/8000 [==============================] - 0s 49us/step - loss: 0.3414 - acc: 0.8601\n",
            "Epoch 70/100\n",
            "8000/8000 [==============================] - 0s 49us/step - loss: 0.3408 - acc: 0.8602\n",
            "Epoch 71/100\n",
            "8000/8000 [==============================] - 0s 49us/step - loss: 0.3414 - acc: 0.8605\n",
            "Epoch 72/100\n",
            "8000/8000 [==============================] - 0s 49us/step - loss: 0.3408 - acc: 0.8605\n",
            "Epoch 73/100\n",
            "8000/8000 [==============================] - 0s 49us/step - loss: 0.3406 - acc: 0.8612\n",
            "Epoch 74/100\n",
            "8000/8000 [==============================] - 0s 50us/step - loss: 0.3403 - acc: 0.8627\n",
            "Epoch 75/100\n",
            "8000/8000 [==============================] - 0s 49us/step - loss: 0.3409 - acc: 0.8601\n",
            "Epoch 76/100\n",
            "8000/8000 [==============================] - 0s 49us/step - loss: 0.3412 - acc: 0.8606\n",
            "Epoch 77/100\n",
            "8000/8000 [==============================] - 0s 48us/step - loss: 0.3411 - acc: 0.8601\n",
            "Epoch 78/100\n",
            "8000/8000 [==============================] - 0s 50us/step - loss: 0.3408 - acc: 0.8634\n",
            "Epoch 79/100\n",
            "8000/8000 [==============================] - 0s 49us/step - loss: 0.3412 - acc: 0.8586\n",
            "Epoch 80/100\n",
            "8000/8000 [==============================] - 0s 50us/step - loss: 0.3408 - acc: 0.8604\n",
            "Epoch 81/100\n",
            "8000/8000 [==============================] - 0s 48us/step - loss: 0.3405 - acc: 0.8607\n",
            "Epoch 82/100\n",
            "8000/8000 [==============================] - 0s 49us/step - loss: 0.3398 - acc: 0.8615\n",
            "Epoch 83/100\n",
            "8000/8000 [==============================] - 0s 50us/step - loss: 0.3397 - acc: 0.8616\n",
            "Epoch 84/100\n",
            "8000/8000 [==============================] - 0s 49us/step - loss: 0.3394 - acc: 0.8602\n",
            "Epoch 85/100\n",
            "8000/8000 [==============================] - 0s 49us/step - loss: 0.3392 - acc: 0.8602\n",
            "Epoch 86/100\n",
            "8000/8000 [==============================] - 0s 49us/step - loss: 0.3391 - acc: 0.8604\n",
            "Epoch 87/100\n",
            "8000/8000 [==============================] - 0s 48us/step - loss: 0.3386 - acc: 0.8602\n",
            "Epoch 88/100\n",
            "8000/8000 [==============================] - 0s 49us/step - loss: 0.3387 - acc: 0.8616\n",
            "Epoch 89/100\n",
            "8000/8000 [==============================] - 0s 50us/step - loss: 0.3384 - acc: 0.8596\n",
            "Epoch 90/100\n",
            "8000/8000 [==============================] - 0s 49us/step - loss: 0.3378 - acc: 0.8624\n",
            "Epoch 91/100\n",
            "8000/8000 [==============================] - 0s 51us/step - loss: 0.3389 - acc: 0.8617\n",
            "Epoch 92/100\n",
            "8000/8000 [==============================] - 0s 49us/step - loss: 0.3389 - acc: 0.8604\n",
            "Epoch 93/100\n",
            "8000/8000 [==============================] - 0s 50us/step - loss: 0.3390 - acc: 0.8606\n",
            "Epoch 94/100\n",
            "8000/8000 [==============================] - 0s 49us/step - loss: 0.3383 - acc: 0.8602\n",
            "Epoch 95/100\n",
            "8000/8000 [==============================] - 0s 49us/step - loss: 0.3387 - acc: 0.8604\n",
            "Epoch 96/100\n",
            "8000/8000 [==============================] - 0s 49us/step - loss: 0.3382 - acc: 0.8600\n",
            "Epoch 97/100\n",
            "8000/8000 [==============================] - 0s 49us/step - loss: 0.3383 - acc: 0.8604\n",
            "Epoch 98/100\n",
            "8000/8000 [==============================] - 0s 49us/step - loss: 0.3380 - acc: 0.8619\n",
            "Epoch 99/100\n",
            "8000/8000 [==============================] - 0s 48us/step - loss: 0.3379 - acc: 0.8607\n",
            "Epoch 100/100\n",
            "8000/8000 [==============================] - 0s 49us/step - loss: 0.3380 - acc: 0.8620\n"
          ],
          "name": "stdout"
        },
        {
          "output_type": "execute_result",
          "data": {
            "text/plain": [
              "<keras.callbacks.History at 0x7f9ccc040630>"
            ]
          },
          "metadata": {
            "tags": []
          },
          "execution_count": 51
        }
      ]
    },
    {
      "cell_type": "code",
      "metadata": {
        "id": "OLduf36CKit9",
        "colab_type": "code",
        "colab": {
          "base_uri": "https://localhost:8080/",
          "height": 141
        },
        "outputId": "1e5940d7-e900-47af-a42f-ec58719dd2f9"
      },
      "source": [
        "model.predict(x) #now predict and test"
      ],
      "execution_count": 52,
      "outputs": [
        {
          "output_type": "execute_result",
          "data": {
            "text/plain": [
              "array([[0.09706962],\n",
              "       [0.35817605],\n",
              "       [0.28484282],\n",
              "       ...,\n",
              "       [0.1300121 ],\n",
              "       [0.11199257],\n",
              "       [0.15231764]], dtype=float32)"
            ]
          },
          "metadata": {
            "tags": []
          },
          "execution_count": 52
        }
      ]
    },
    {
      "cell_type": "code",
      "metadata": {
        "id": "DHHSI0gRMfmB",
        "colab_type": "code",
        "colab": {}
      },
      "source": [
        "# accuracy score --- confusion matrix\n",
        "#Stock market data= mutual fund customer list==dataset for ann"
      ],
      "execution_count": 0,
      "outputs": []
    }
  ]
}